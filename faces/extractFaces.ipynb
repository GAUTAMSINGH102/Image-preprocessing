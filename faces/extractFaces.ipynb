{
 "cells": [
  {
   "cell_type": "code",
   "execution_count": 3,
   "id": "ba832cdf",
   "metadata": {},
   "outputs": [],
   "source": [
    "import os\n",
    "import cv2"
   ]
  },
  {
   "cell_type": "code",
   "execution_count": 1,
   "id": "3b7118d8",
   "metadata": {},
   "outputs": [],
   "source": [
    "# Set the paths for the input and output folders\n",
    "input_dir = 'faceEmotionDetection/train'\n",
    "output_dir = 'onlyFaces'"
   ]
  },
  {
   "cell_type": "code",
   "execution_count": 4,
   "id": "0788cbdb",
   "metadata": {},
   "outputs": [],
   "source": [
    "os.makedirs(output_dir, exist_ok=True)"
   ]
  },
  {
   "cell_type": "code",
   "execution_count": null,
   "id": "5000995d",
   "metadata": {},
   "outputs": [],
   "source": [
    "# Define a function to detect faces in an image and save them to a new folder\n",
    "def extract_faces(input_path, output_path):\n",
    "    # Load the image\n",
    "    img = cv2.imread(input_path)\n",
    "\n",
    "    # Convert the image to grayscale\n",
    "    gray = cv2.cvtColor(img, cv2.COLOR_BGR2GRAY)\n",
    "\n",
    "    # Load the face detection model\n",
    "    caffeModelFile = \"/content/res10_300x300_ssd_iter_140000.caffemodel\"\n",
    "    caffeProtoTxt = \"/content/deploy.prototxt\"\n",
    "    caffeDetector = cv2.dnn.readNetFromCaffe(caffeProtoTxt, caffeModelFile)\n",
    "\n",
    "    # Detect faces in the image\n",
    "    (h, w) = img.shape[:2]\n",
    "    blob = cv2.dnn.blobFromImage(cv2.resize(img, (300, 300)), 1.0, (300, 300), (104.0, 177.0, 123.0))\n",
    "    caffeDetector.setInput(blob)\n",
    "    detections = caffeDetector.forward()\n",
    "\n",
    "    # Save each face as a new image in the output folder\n",
    "    for i in range(0, detections.shape[2]):\n",
    "        confidence = detections[0, 0, i, 2]\n",
    "        if confidence > 0.5:\n",
    "            box = detections[0, 0, i, 3:7] * np.array([w, h, w, h])\n",
    "            (startX, startY, endX, endY) = box.astype(\"int\")\n",
    "            face_img = img[startY:endY, startX:endX]\n",
    "            \n",
    "            # output_path is equal to train/classFolder\n",
    "            # the second one is for saving multiple faces (we can have multiple faces in one image)\n",
    "            # third is the image that we want to save\n",
    "            \n",
    "            cv2.imwrite(os.path.join(output_path, f'{os.path.splitext(os.path.basename(input_path))[0]}_{i}.jpg'), face_img)"
   ]
  },
  {
   "cell_type": "code",
   "execution_count": null,
   "id": "e2015c32",
   "metadata": {},
   "outputs": [],
   "source": [
    "# we have main input_dir as train and validation one by one\n",
    "\n",
    "# Loop over each class folder in the input directory\n",
    "for class_folder in os.listdir(input_dir):\n",
    "    \n",
    "    # class_folder is equal to 9 Classes inside train and validation \n",
    "    \n",
    "    # Create a new folder for the class in the output directory\n",
    "    class_output_dir = os.path.join(output_dir, class_folder)\n",
    "    os.makedirs(class_output_dir, exist_ok=True)\n",
    "\n",
    "    # Loop over each image in the class folder\n",
    "    for image_file in os.listdir(os.path.join(input_dir, class_folder)):\n",
    "        \n",
    "        # Extract faces from the image and save them to the class folder in the output directory\n",
    "        input_path = os.path.join(input_dir, class_folder, image_file)\n",
    "        \n",
    "        extract_faces(input_path, class_output_dir)\n"
   ]
  }
 ],
 "metadata": {
  "kernelspec": {
   "display_name": "Python 3 (ipykernel)",
   "language": "python",
   "name": "python3"
  },
  "language_info": {
   "codemirror_mode": {
    "name": "ipython",
    "version": 3
   },
   "file_extension": ".py",
   "mimetype": "text/x-python",
   "name": "python",
   "nbconvert_exporter": "python",
   "pygments_lexer": "ipython3",
   "version": "3.10.0"
  }
 },
 "nbformat": 4,
 "nbformat_minor": 5
}
